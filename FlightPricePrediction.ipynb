{
 "cells": [
  {
   "cell_type": "code",
   "execution_count": 99,
   "id": "1a54fc06",
   "metadata": {},
   "outputs": [],
   "source": [
    "import pandas as pd\n",
    "from sklearn.tree import DecisionTreeRegressor\n",
    "from sklearn.model_selection import train_test_split\n",
    "from sklearn.metrics import mean_absolute_error"
   ]
  },
  {
   "cell_type": "code",
   "execution_count": 50,
   "id": "143e30da",
   "metadata": {},
   "outputs": [],
   "source": [
    "flightDataFilePath = \"FlightData.csv\"\n",
    "flightData = pd.read_csv(flightDataFilePath)\n",
    "\n",
    "flightData = flightData.dropna(axis=0)\n",
    "\n",
    "y = flightData.price\n",
    "X = flightData[['departure_time', 'stops', 'arrival_time', 'class', 'duration', 'days_left']]"
   ]
  },
  {
   "cell_type": "code",
   "execution_count": 134,
   "id": "990c3f21",
   "metadata": {},
   "outputs": [
    {
     "data": {
      "text/plain": [
       "DecisionTreeRegressor(random_state=1)"
      ]
     },
     "execution_count": 134,
     "metadata": {},
     "output_type": "execute_result"
    }
   ],
   "source": [
    "flightDataModel = DecisionTreeRegressor(random_state=1)\n",
    "\n",
    "flightDataModel.fit(X, y)"
   ]
  },
  {
   "cell_type": "code",
   "execution_count": 130,
   "id": "47a96a4c",
   "metadata": {},
   "outputs": [
    {
     "name": "stdout",
     "output_type": "stream",
     "text": [
      "Predicted price:  57.4633333 Euro\n"
     ]
    }
   ],
   "source": [
    "inputDepartureTime = 13.5\n",
    "inputArrivalTime = 17.5\n",
    "inputDuration = 4.5\n",
    "inputStops = 1\n",
    "inputDaysLeft = 30\n",
    "inputClass = 2\n",
    "\n",
    "prediction = flightDataModel.predict(pd.DataFrame([[inputDepartureTime, inputStops, inputArrivalTime, inputClass, inputDuration, inputDaysLeft]], columns=X.columns))*0.01\n",
    "print(\"Predicted price: \", str(prediction)[1:-2], \"Euro\")"
   ]
  },
  {
   "cell_type": "code",
   "execution_count": 131,
   "id": "f2519826",
   "metadata": {},
   "outputs": [
    {
     "name": "stdout",
     "output_type": "stream",
     "text": [
      "34.10070704274661\n"
     ]
    }
   ],
   "source": [
    "train_X, val_X, train_y, val_y = train_test_split(X, y, random_state=0)\n",
    "\n",
    "flightDataModel = DecisionTreeRegressor()\n",
    "\n",
    "flightDataModel.fit(train_X, train_y)\n",
    "\n",
    "val_predictions = flightDataModel.predict(val_X)\n",
    "\n",
    "print(mean_absolute_error(val_y, val_predictions)*0.01)"
   ]
  }
 ],
 "metadata": {
  "kernelspec": {
   "display_name": "Python 3 (ipykernel)",
   "language": "python",
   "name": "python3"
  },
  "language_info": {
   "codemirror_mode": {
    "name": "ipython",
    "version": 3
   },
   "file_extension": ".py",
   "mimetype": "text/x-python",
   "name": "python",
   "nbconvert_exporter": "python",
   "pygments_lexer": "ipython3",
   "version": "3.9.13"
  }
 },
 "nbformat": 4,
 "nbformat_minor": 5
}
