{
 "cells": [
  {
   "cell_type": "code",
   "execution_count": 5,
   "id": "6f87aba4",
   "metadata": {},
   "outputs": [],
   "source": [
    "import pandas as pd\n",
    "from sklearn.ensemble import RandomForestRegressor\n",
    "from sklearn.model_selection import train_test_split\n",
    "from sklearn.metrics import mean_absolute_error"
   ]
  },
  {
   "cell_type": "code",
   "execution_count": 6,
   "id": "3f708eec",
   "metadata": {},
   "outputs": [],
   "source": [
    "flightDataFilePath = \"FlightData.csv\"\n",
    "flightData = pd.read_csv(flightDataFilePath)\n",
    "\n",
    "flightData = flightData.dropna(axis=0)\n",
    "\n",
    "y = flightData.price\n",
    "X = flightData[['departure_time', 'stops', 'arrival_time', 'class', 'duration', 'days_left']]"
   ]
  },
  {
   "cell_type": "code",
   "execution_count": 12,
   "id": "5304cbec",
   "metadata": {},
   "outputs": [
    {
     "name": "stdout",
     "output_type": "stream",
     "text": [
      "done!\n",
      "done!\n"
     ]
    }
   ],
   "source": [
    "flightDataModel = RandomForestRegressor(random_state=1)\n",
    "\n",
    "flightDataModel.fit(X, y)"
   ]
  },
  {
   "cell_type": "code",
   "execution_count": 8,
   "id": "71496766",
   "metadata": {},
   "outputs": [
    {
     "name": "stdout",
     "output_type": "stream",
     "text": [
      "Predicted price:  24.3540 Euro\n"
     ]
    }
   ],
   "source": [
    "inputDepartureTime = 21\n",
    "inputArrivalTime = 22.5\n",
    "inputDuration = 1.5\n",
    "inputStops = 0\n",
    "inputDaysLeft = 30\n",
    "inputClass = 2\n",
    "\n",
    "prediction = flightDataModel.predict(pd.DataFrame([[inputDepartureTime, inputStops, inputArrivalTime, inputClass, inputDuration, inputDaysLeft]], columns=X.columns))*0.01\n",
    "print(\"Predicted price: \", str(prediction)[1:-2], \"Euro\")"
   ]
  },
  {
   "cell_type": "code",
   "execution_count": 9,
   "id": "6e17cd58",
   "metadata": {},
   "outputs": [
    {
     "name": "stdout",
     "output_type": "stream",
     "text": [
      "Wrong by  31.297437985636183 Euro (on average)\n"
     ]
    }
   ],
   "source": [
    "train_X, val_X, train_y, val_y = train_test_split(X, y, random_state=0)\n",
    "\n",
    "flightDataModel = RandomForestRegressor()\n",
    "\n",
    "flightDataModel.fit(train_X, train_y)\n",
    "\n",
    "val_predictions = flightDataModel.predict(val_X)\n",
    "\n",
    "print(\"Wrong by \" ,mean_absolute_error(val_y, val_predictions)*0.01, \"Euro (on average)\")"
   ]
  },
  {
   "cell_type": "code",
   "execution_count": null,
   "id": "b403d345",
   "metadata": {},
   "outputs": [],
   "source": []
  }
 ],
 "metadata": {
  "kernelspec": {
   "display_name": "Python 3 (ipykernel)",
   "language": "python",
   "name": "python3"
  },
  "language_info": {
   "codemirror_mode": {
    "name": "ipython",
    "version": 3
   },
   "file_extension": ".py",
   "mimetype": "text/x-python",
   "name": "python",
   "nbconvert_exporter": "python",
   "pygments_lexer": "ipython3",
   "version": "3.9.13"
  }
 },
 "nbformat": 4,
 "nbformat_minor": 5
}
